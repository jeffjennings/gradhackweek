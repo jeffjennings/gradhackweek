{
 "cells": [
  {
   "cell_type": "code",
   "execution_count": 10,
   "metadata": {},
   "outputs": [],
   "source": [
    "import numpy as np\n",
    "import h5py as h5\n",
    "import matplotlib.pyplot as plt\n",
    "#%%\n",
    "G = 6.6738e-8\n",
    "PROTONMASS = 1.67262178e-24\n",
    "ELECTRONMASS = 9.10938291e-28\n",
    "BOLTZMANN = 1.38065e-16\n",
    "THOMSON = 6.652458734e-25\n",
    "XH = 0.76\n",
    "GAMMA = 5.0/3\n",
    "LIGHTSPEED = 2.99792458e10\n",
    "\n",
    "def Read_Header(base, run, snapnum):\n",
    "    ext                  = '099.'+str(snapnum)    \n",
    "    fn                   = base+run+'/fof_subhalo_tab_'+ext+'.hdf5'\n",
    "    fs                   = h5.File(fn, 'r')\n",
    "    Header               = fs['Header'].attrs\n",
    "    Redshift             = Header['Redshift']\n",
    "    a                    = Header['Time']\n",
    "    Omega                = [Header['Omega0'], Header['OmegaLambda']]\n",
    "    h                    = Header['HubbleParam']   \n",
    "    BoxSize              = Header['BoxSize']*a/h \n",
    "    UnitLength           = 3.086e19\n",
    "    UnitMass             = 1.989e43\n",
    "    UnitVelocity         = 1e5\n",
    "    UnitTime             = UnitLength/UnitVelocity\n",
    "\n",
    "    return {'BoxSize':BoxSize, 'Omega':Omega, 'a':a, 'Redshift':Redshift,\n",
    "            'h':h, \n",
    "            'UnitLength':UnitLength, 'UnitMass':UnitMass,\n",
    "            'UnitVelocity':UnitVelocity, 'UnitTime':UnitTime}\n",
    "\n",
    "\n",
    "def Read_Halos(base, run, snapnum):\n",
    "\n",
    "    ext                  = '099.'+str(snapnum)+'.hdf5'    \n",
    "    fn                   = base+run+'/fof_subhalo_tab_'+ext\n",
    "    fs                   = h5.File(fn, 'r')\n",
    "\n",
    "    try:\n",
    "        fs['Group/Group_M_Crit200'][:] \n",
    "    except: \n",
    "        return {}\n",
    "    Header               = fs['Header'].attrs\n",
    "    a, h = Header['Time'], Header['HubbleParam']\n",
    "    TotNgroups           = Header['Ngroups_Total']\n",
    "    TotNsubgroups        = Header['Nsubgroups_Total']\n",
    "    \n",
    "\n",
    "    if TotNgroups > 0:\n",
    "        Gr_LenType       = fs['Group/GroupLenType'][:]\n",
    "        validgroup = (Gr_LenType[:,1] >= 200)\n",
    "        if len(Gr_LenType[validgroup,1]) == 0: return {}\n",
    "        invalidgroup = np.where(Gr_LenType[:,1] < 200)[0]\n",
    "        Gr_LenType       = fs['Group/GroupLenType'][validgroup,:]\n",
    "        Gr_MCrit200      = fs['Group/Group_M_Crit200'][validgroup] / h\n",
    "        Gr_RCrit200      = fs['Group/Group_R_Crit200'][validgroup] * a / h\n",
    "        Gr_MCrit500      = fs['Group/Group_M_Crit500'][validgroup] / h\n",
    "        Gr_RCrit500      = fs['Group/Group_R_Crit500'][validgroup] * a / h\n",
    "        Gr_Mass          = fs['Group/GroupMass'][validgroup] / h\n",
    "        Gr_Pos           = fs['Group/GroupPos'][validgroup,:] * a / h\n",
    "        Gr_Vel           = fs['Group/GroupVel'][validgroup,:] * 1/a\n",
    "        FirstSub         = fs['Group/GroupFirstSub'][validgroup]\n",
    "        NumSubs          = fs['Group/GroupNsubs'][validgroup]\n",
    "    if TotNsubgroups > 0:    \n",
    "        SubGroupNumber   = fs['Subhalo/SubhaloGrNr'][:]\n",
    "        validsub = np.isin(SubGroupNumber, invalidgroup, invert=True)\n",
    "        SubGroupNumber   = fs['Subhalo/SubhaloGrNr'][validsub]        \n",
    "        SubPos           = fs['Subhalo/SubhaloPos'][validsub,:] * a / h\n",
    "        SubLenType       = fs['Subhalo/SubhaloLenType'][validsub,:]\n",
    "        SubMassType      = fs['Subhalo/SubhaloMassInHalfRadType'][validsub,:] / h\n",
    "        SubVel           = fs['Subhalo/SubhaloVel'][validsub,:]\n",
    "        SubHalfRad       = fs['Subhalo/SubhaloHalfmassRadType'][validsub,:] * a / h\n",
    "        SubLen           = fs['Subhalo/SubhaloLen'][validsub]\n",
    "\n",
    "\n",
    "\n",
    "    return {'Group_M_Crit200':Gr_MCrit200, 'Group_R_Crit200':Gr_RCrit200, 'Group_M_Crit500':Gr_MCrit500, 'Group_R_Crit500':Gr_RCrit500,  'GroupLenType':Gr_LenType, \n",
    "            'GroupMass':Gr_Mass,           'GroupPos':Gr_Pos, 'FirstSub':FirstSub,               \n",
    "            'NumOfSubhalos':NumSubs,       \n",
    "            'SubLen':SubLen,               'SubPos':SubPos,   'SubVel':SubVel, 'SubGroupNumber':SubGroupNumber,\n",
    "            'TotNgroups':TotNgroups,       'TotNsubgroups':TotNsubgroups,                 \n",
    "            'SubLenType':SubLenType,       'SubMassType':SubMassType,  \n",
    "            'GroupVel':Gr_Vel, 'SubHalfRad':SubHalfRad}"
   ]
  },
  {
   "cell_type": "code",
   "execution_count": 11,
   "metadata": {},
   "outputs": [
    {
     "name": "stdout",
     "output_type": "stream",
     "text": [
      "Importing data...\n",
      "Data imported\n",
      "(2275478, 7)\n"
     ]
    }
   ],
   "source": [
    "base = '/data/ERCblackholes2/jsb210/HackWeek19/'\n",
    "# base = '/home/jsb/HackWeek/'\n",
    "run = 'EAGLE'\n",
    "\n",
    "\n",
    "\n",
    "#%%\n",
    "print('Importing data...')\n",
    "EAGLEdat = np.loadtxt(base+run+'/result.csv', skiprows=45, delimiter=',')\n",
    "print('Data imported')\n",
    "print(EAGLEdat.shape)\n",
    "E_mdm   = EAGLEdat[:,2]\n",
    "cut = np.where(E_mdm/1.81e6 > 200)[0]\n",
    "mdm   = E_mdm[cut][np.nonzero(EAGLEdat[:,2][cut])]\n",
    "mstar = EAGLEdat[:,0][cut][np.nonzero(EAGLEdat[:,0][cut])]\n",
    "mbh   = EAGLEdat[:,1][cut][np.nonzero(EAGLEdat[:,1][cut])]\n",
    "mgas  = EAGLEdat[:,3][cut][np.nonzero(EAGLEdat[:,3][cut])]\n",
    "mvir  = np.unique(EAGLEdat[:,4][np.nonzero(EAGLEdat[:,4])])\n",
    "rvir  = np.unique(EAGLEdat[:,5][np.nonzero(EAGLEdat[:,5])])\n",
    "halfstarrad = EAGLEdat[:,6][cut][np.nonzero(EAGLEdat[:,6][cut])]\n",
    "mbary = (EAGLEdat[:,0][cut]+EAGLEdat[:,1][cut]+EAGLEdat[:,3][cut])\n",
    "mbary = mbary[np.nonzero(mbary)]\n",
    "#%%"
   ]
  },
  {
   "cell_type": "code",
   "execution_count": 12,
   "metadata": {},
   "outputs": [
    {
     "data": {
      "text/plain": [
       "<matplotlib.legend.Legend at 0x7fdb4b154a58>"
      ]
     },
     "execution_count": 12,
     "metadata": {},
     "output_type": "execute_result"
    },
    {
     "data": {
      "image/png": "[encoded data removed]",
      "text/plain": [
       "<Figure size 432x288 with 1 Axes>"
      ]
     },
     "metadata": {
      "needs_background": "light"
     },
     "output_type": "display_data"
    }
   ],
   "source": [
    "bs = 100*1e6\n",
    "\n",
    "mbins = np.arange(5, 16, 0.05) #np.linspace(5, np.log10(5e15), 200)\n",
    "binwidth = np.diff(mbins)\n",
    "w = (1/(bs)**3)\n",
    "\n",
    "mtype = ['mvir', 'mbh', 'mgas', 'mstar', 'mdm', 'mbary']\n",
    "#%%\n",
    "fig, ax = plt.subplots()\n",
    "ax.set_xscale('log')\n",
    "ax.set_yscale('log')\n",
    "for i in mtype:\n",
    "    h, edges = np.histogram(np.log10(eval(i)), bins=mbins, weights=np.full_like(eval(i), w))\n",
    "    edges = edges[:-1] + np.diff(edges)/2\n",
    "    ax.step(10**edges,  h/binwidth,  label=run+' '+i)\n",
    "    massnumdens = np.vstack((edges, binwidth, h, h/binwidth)).T\n",
    "    np.savetxt('BigPlotData_'+run+'_'+i+'.txt', massnumdens, header='[0] log10 Mass / Msun, [1] Bin width log10 Mass / Msun, [2] dN/dV (pc^-3), [3] dN/dVlogM (pc^-3 log10 Mass/Msun)')\n",
    "\n",
    "\n",
    "ax.legend()\n",
    "\n",
    "\n",
    "#wget --http-user=lbd819 --http-passwd=wng92fes \"http://galaxy-catalogue.dur.ac.uk:8080/Eagle?action=doQuery&SQL=select SH.MassType_Star as mstar, SH.MassType_BH as mbh, SH.MassType_DM as mdm, SH.MassType_Gas as mgas, FOF.Group_M_Crit200 as mvir, FOF.Group_R_Crit200 as rvir, SH.HalfMassRad_Star as HalfRadStar from RefL0100N1504_Subhalo as SH, RefL0100N1504_FOF as FOF where SH.SnapNum = 28 and FOF.SnapNum = SH.SnapNum\" -O result.csv                 "
   ]
  }
 ],
 "metadata": {
  "anaconda-cloud": {},
  "kernelspec": {
   "display_name": "Python [conda env:pyenv_jsb]",
   "language": "python",
   "name": "conda-env-pyenv_jsb-py"
  },
  "language_info": {
   "codemirror_mode": {
    "name": "ipython",
    "version": 3
   },
   "file_extension": ".py",
   "mimetype": "text/x-python",
   "name": "python",
   "nbconvert_exporter": "python",
   "pygments_lexer": "ipython3",
   "version": "3.7.3"
  }
 },
 "nbformat": 4,
 "nbformat_minor": 2
}
